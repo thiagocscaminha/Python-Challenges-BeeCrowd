{
  "nbformat": 4,
  "nbformat_minor": 0,
  "metadata": {
    "colab": {
      "provenance": [],
      "authorship_tag": "ABX9TyPesGXNFTIjySHGHkw13wWQ",
      "include_colab_link": true
    },
    "kernelspec": {
      "name": "python3",
      "display_name": "Python 3"
    },
    "language_info": {
      "name": "python"
    }
  },
  "cells": [
    {
      "cell_type": "markdown",
      "metadata": {
        "id": "view-in-github",
        "colab_type": "text"
      },
      "source": [
        "<a href=\"https://colab.research.google.com/github/thiagocscaminha/Python-Challenges-BeeCrowd/blob/main/01%20-%20Beginner%20-%20%231053%20-%20Even%20numbers.ipynb\" target=\"_parent\"><img src=\"https://colab.research.google.com/assets/colab-badge.svg\" alt=\"Open In Colab\"/></a>"
      ]
    },
    {
      "cell_type": "markdown",
      "source": [
        "# beecrowd | 1059 | Even Numbers"
      ],
      "metadata": {
        "id": "XDczgLCYkQv-"
      }
    },
    {
      "cell_type": "markdown",
      "source": [
        "Write a program that prints all even numbers between 1 and 100, including them if it is the case.\n",
        "\n",
        "**Input:**\n",
        "In this extremely simple problem there is no input.\n",
        "\n",
        "**Output:**\n",
        "Print all even numbers between 1 and 100, including them, one by row.\n",
        "\n",
        "**Input Sample:**  \n",
        "**Output Sample:**  \n",
        "2  \n",
        "4  \n",
        "6  \n",
        "...  \n",
        "100"
      ],
      "metadata": {
        "id": "P2_vCXcKkWWG"
      }
    },
    {
      "cell_type": "code",
      "source": [
        "number = 1\n",
        "\n",
        "while int(number) in range(1,101):\n",
        "  if (number % 2 == 0):\n",
        "    print(f'{number}')\n",
        "  number = number + 1\n"
      ],
      "metadata": {
        "colab": {
          "base_uri": "https://localhost:8080/"
        },
        "id": "BWsUEYLMkl4U",
        "outputId": "1c52f9a1-3099-4120-8b27-04cd2ce1f419"
      },
      "execution_count": null,
      "outputs": [
        {
          "output_type": "stream",
          "name": "stdout",
          "text": [
            "2\n",
            "4\n",
            "6\n",
            "8\n",
            "10\n",
            "12\n",
            "14\n",
            "16\n",
            "18\n",
            "20\n",
            "22\n",
            "24\n",
            "26\n",
            "28\n",
            "30\n",
            "32\n",
            "34\n",
            "36\n",
            "38\n",
            "40\n",
            "42\n",
            "44\n",
            "46\n",
            "48\n",
            "50\n",
            "52\n",
            "54\n",
            "56\n",
            "58\n",
            "60\n",
            "62\n",
            "64\n",
            "66\n",
            "68\n",
            "70\n",
            "72\n",
            "74\n",
            "76\n",
            "78\n",
            "80\n",
            "82\n",
            "84\n",
            "86\n",
            "88\n",
            "90\n",
            "92\n",
            "94\n",
            "96\n",
            "98\n",
            "100\n"
          ]
        }
      ]
    }
  ]
}
