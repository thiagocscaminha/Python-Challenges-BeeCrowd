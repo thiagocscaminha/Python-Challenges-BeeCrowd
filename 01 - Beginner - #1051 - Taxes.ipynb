{
  "nbformat": 4,
  "nbformat_minor": 0,
  "metadata": {
    "colab": {
      "provenance": [],
      "authorship_tag": "ABX9TyMFQhanqJXZYC+8s9bZx+Xr",
      "include_colab_link": true
    },
    "kernelspec": {
      "name": "python3",
      "display_name": "Python 3"
    },
    "language_info": {
      "name": "python"
    }
  },
  "cells": [
    {
      "cell_type": "markdown",
      "metadata": {
        "id": "view-in-github",
        "colab_type": "text"
      },
      "source": [
        "<a href=\"https://colab.research.google.com/github/thiagocscaminha/Python-Challenges-BeeCrowd/blob/main/01%20-%20Beginner%20-%20%231051%20-%20Taxes.ipynb\" target=\"_parent\"><img src=\"https://colab.research.google.com/assets/colab-badge.svg\" alt=\"Open In Colab\"/></a>"
      ]
    },
    {
      "cell_type": "markdown",
      "source": [
        "# beecrowd | 1051 | Taxes"
      ],
      "metadata": {
        "id": "9jVNOlJR_KQd"
      }
    },
    {
      "cell_type": "markdown",
      "source": [
        "In an imaginary country called Lisarb, all the people are very happy to pay their taxes because they know that doesn’t exist corrupt politicians and the taxes are used to benefit the population, without any misappropriation. The currency of this country is Rombus, whose symbol is R$.\n",
        "\n",
        "Read a value with 2 digits after the decimal point, equivalent to the salary of a Lisarb inhabitant. Then print the due value that this person must pay of taxes, according to the table below.\n",
        "\n",
        "![](https://resources.beecrowd.com/gallery/images/problems/UOJ_1051_en.png)\n",
        "\n",
        "Remember, if the salary is R$ 3,002.00 for example, the rate of 8% is only over R$ 1,000.00, because the salary from R$ 0.00 to R$ 2,000.00 is tax free. In the follow example, the total rate is 8% over R$ 1000.00 + 18% over R$ 2.00, resulting in R$ 80.36 at all. The answer must be printed with 2 digits after the decimal point.\n",
        "\n",
        "Input\n",
        "The input contains only a float-point number, with 2 digits after the decimal point.\n",
        "\n",
        "Output\n",
        "Print the message \"R$\" followed by a blank space and the total tax to be payed, with two digits after the decimal point. If the value is up to 2000, print the message \"Isento\"."
      ],
      "metadata": {
        "id": "etJeVOr8_N6v"
      }
    },
    {
      "cell_type": "code",
      "source": [
        "salary = round(float(input().strip()),2)\n",
        "\n",
        "if (salary <= 2000.00):\n",
        "  tax_rate = 0\n",
        "  tax = 0\n",
        "\n",
        "elif (salary > 2000.00 and salary <= 3000.00):\n",
        "  tax_rate = 0.08\n",
        "  tax = ((salary - 2000) * tax_rate)\n",
        "\n",
        "elif (salary > 3000.00 and salary <= 4500.00):\n",
        "  tax_rate = 0.18\n",
        "  tax = (1000 * 0.08) + ((salary - 3000) * tax_rate)\n",
        "\n",
        "elif (salary > 4500.00):\n",
        "  tax_rate = 0.28\n",
        "  tax = (1000 * 0.08) + (1500 * 0.18) + ((salary - 4500) * tax_rate)\n",
        "\n",
        "if (tax == 0):\n",
        "  print(f'Isento')\n",
        "else:\n",
        "  print(f'R$ {tax:.2f}')"
      ],
      "metadata": {
        "colab": {
          "base_uri": "https://localhost:8080/"
        },
        "id": "3SBzm8C2_mBX",
        "outputId": "6a7f485e-7f42-4c9b-b9ff-c925a44bfcc6"
      },
      "execution_count": 14,
      "outputs": [
        {
          "output_type": "stream",
          "name": "stdout",
          "text": [
            "2400\n",
            "R$ 32.00\n"
          ]
        }
      ]
    }
  ]
}