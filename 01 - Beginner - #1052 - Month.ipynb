{
  "nbformat": 4,
  "nbformat_minor": 0,
  "metadata": {
    "colab": {
      "provenance": [],
      "authorship_tag": "ABX9TyNafC+NJAKo0q8YBaB7mop2",
      "include_colab_link": true
    },
    "kernelspec": {
      "name": "python3",
      "display_name": "Python 3"
    },
    "language_info": {
      "name": "python"
    }
  },
  "cells": [
    {
      "cell_type": "markdown",
      "metadata": {
        "id": "view-in-github",
        "colab_type": "text"
      },
      "source": [
        "<a href=\"https://colab.research.google.com/github/thiagocscaminha/Python-Challenges-BeeCrowd/blob/main/01_Beginner_1052_Month.ipynb\" target=\"_parent\"><img src=\"https://colab.research.google.com/assets/colab-badge.svg\" alt=\"Open In Colab\"/></a>"
      ]
    },
    {
      "cell_type": "markdown",
      "source": [
        "# beecrowd | 1052 | Month"
      ],
      "metadata": {
        "id": "O9BqltUmhflC"
      }
    },
    {
      "cell_type": "markdown",
      "source": [
        "Read an integer number between 1 and 12, including. Corresponding to this number, you must print the month of the year, in english, with the first letter in uppercase.\n",
        "\n",
        "**Input:**\n",
        "The input contains only an integer number.\n",
        "\n",
        "**Output:**\n",
        "Print the name of the month according to the input number, with the first letter in uppercase."
      ],
      "metadata": {
        "id": "nrvCzKyNhiOy"
      }
    },
    {
      "cell_type": "code",
      "source": [
        "month = 0\n",
        "\n",
        "while not int(month) in range(1,13):\n",
        "  month = int(input().strip())\n",
        "\n",
        "if month == 1:\n",
        "  print(f'January')\n",
        "elif month == 2:\n",
        "  print(f'February')\n",
        "elif month == 3:\n",
        "  print(f'March')\n",
        "elif month == 4:\n",
        "  print(f'April')\n",
        "elif month == 5:\n",
        "  print(f'May')\n",
        "elif month == 6:\n",
        "  print(f'June')\n",
        "elif month == 7:\n",
        "  print(f'July')\n",
        "elif month == 8:\n",
        "  print(f'August')\n",
        "elif month == 9:\n",
        "  print(f'September')\n",
        "elif month == 10:\n",
        "  print(f'October')\n",
        "elif month == 11:\n",
        "  print(f'November')\n",
        "elif month == 12:\n",
        "  print(f'December')"
      ],
      "metadata": {
        "colab": {
          "base_uri": "https://localhost:8080/"
        },
        "id": "-2BokdqohnZM",
        "outputId": "519a96f6-8c83-430f-ee1b-73f03f7b73d6"
      },
      "execution_count": 9,
      "outputs": [
        {
          "output_type": "stream",
          "name": "stdout",
          "text": [
            "12\n",
            "December\n"
          ]
        }
      ]
    }
  ]
}
