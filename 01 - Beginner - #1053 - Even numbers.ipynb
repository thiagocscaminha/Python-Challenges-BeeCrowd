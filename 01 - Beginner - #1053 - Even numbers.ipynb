{
  "nbformat": 4,
  "nbformat_minor": 0,
  "metadata": {
    "colab": {
      "provenance": [],
      "authorship_tag": "ABX9TyMluIPxB64mWz8y31u0jlSv",
      "include_colab_link": true
    },
    "kernelspec": {
      "name": "python3",
      "display_name": "Python 3"
    },
    "language_info": {
      "name": "python"
    }
  },
  "cells": [
    {
      "cell_type": "markdown",
      "metadata": {
        "id": "view-in-github",
        "colab_type": "text"
      },
      "source": [
        "<a href=\"https://colab.research.google.com/github/thiagocscaminha/Python-Challenges-BeeCrowd/blob/main/01%20-%20Beginner%20-%20%231053%20-%20Even%20numbers.ipynb\" target=\"_parent\"><img src=\"https://colab.research.google.com/assets/colab-badge.svg\" alt=\"Open In Colab\"/></a>"
      ]
    },
    {
      "cell_type": "markdown",
      "source": [
        "# beecrowd | 1053 | Even Numbers"
      ],
      "metadata": {
        "id": "KbCcasLHlzr1"
      }
    },
    {
      "cell_type": "markdown",
      "source": [
        "Write a program that reads 6 numbers. These numbers will only be positive or negative (disregard null values). Print the total number of positive numbers.\n",
        "\n",
        "**Input:**\n",
        "Six numbers, positive and/or negative.\n",
        "\n",
        "**Output:**\n",
        "Print a message with the total number of positive numbers.\n",
        "\n",
        "**Input Sample:**  \n",
        "7  \n",
        "-5  \n",
        "6  \n",
        "-3.4  \n",
        "4.6  \n",
        "12  \n",
        "\n",
        "**Output Sample:**\n",
        "4 valores positivos"
      ],
      "metadata": {
        "id": "xHmpWcJDl23E"
      }
    },
    {
      "cell_type": "code",
      "source": [
        "numbers = []\n",
        "number1 = float(input().strip())\n",
        "numbers.append(number1)\n",
        "number2 = float(input().strip())\n",
        "numbers.append(number2)\n",
        "number3 = float(input().strip())\n",
        "numbers.append(number3)\n",
        "number4 = float(input().strip())\n",
        "numbers.append(number4)\n",
        "number5 = float(input().strip())\n",
        "numbers.append(number5)\n",
        "number6 = float(input().strip())\n",
        "numbers.append(number6)\n",
        "resultado = 0\n",
        "for num in numbers:\n",
        "  if (num > 0):\n",
        "    resultado = resultado + 1\n",
        "\n",
        "print(f'{resultado} valores positivos')"
      ],
      "metadata": {
        "colab": {
          "base_uri": "https://localhost:8080/"
        },
        "id": "QaWpGZp4mFYV",
        "outputId": "0777093f-926e-48a1-d5b9-4db8b891ef95"
      },
      "execution_count": 8,
      "outputs": [
        {
          "output_type": "stream",
          "name": "stdout",
          "text": [
            "7\n",
            "-5\n",
            "6\n",
            "-3.4\n",
            "4.6\n",
            "12\n",
            "4 valores positivos\n"
          ]
        }
      ]
    }
  ]
}